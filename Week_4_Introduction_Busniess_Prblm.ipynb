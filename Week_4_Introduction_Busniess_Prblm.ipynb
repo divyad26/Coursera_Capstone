{
    "nbformat_minor": 1, 
    "cells": [
        {
            "source": "# Introduction/Business Problem", 
            "cell_type": "markdown", 
            "metadata": {
                "collapsed": true
            }
        }, 
        {
            "source": "**Problem Background:**", 
            "cell_type": "markdown", 
            "metadata": {}
        }, 
        {
            "source": "Toronto is the well developed city of Canada, which has lots of business environments, IT Businesses and friendly environment that attracts lot of population.\nHowever, that also means the market is highly competitive and as well as developed city, the cost of doing business is also high interms of investment. So for this reason, one should be very carefull in establishing any new business in the Toronto should examine the neighorhood places such that they should have high amounts of profit in return.\n", 
            "cell_type": "markdown", 
            "metadata": {}
        }, 
        {
            "source": "**Problem Description**", 
            "cell_type": "markdown", 
            "metadata": {}
        }, 
        {
            "source": "In this city called Toronta, XYZ grocery market is supposed planning to establish in the Toronto. As a startup company, even though well funded, they have to choose the location wisely based on highly populated areas in neighborhoods of Toronto.", 
            "cell_type": "markdown", 
            "metadata": {}
        }, 
        {
            "source": "**Target Audience**", 
            "cell_type": "markdown", 
            "metadata": {}
        }, 
        {
            "source": "As a Data Scientist, I should recommend the best location for the XYZ Grocery store. I should be able to examine the statistical analysis based on the machine learning algorithms, to locate and recommend the best place for their first store to be located.", 
            "cell_type": "markdown", 
            "metadata": {}
        }, 
        {
            "source": "**Success Criteria**", 
            "cell_type": "markdown", 
            "metadata": {}
        }, 
        {
            "source": "The success criteria for this project is to recommend the best neighborhood choice for the XYZ grocery store based on highly populated area and lack of grocery stores in that particular neighborhood", 
            "cell_type": "markdown", 
            "metadata": {}
        }, 
        {
            "source": "", 
            "cell_type": "code", 
            "execution_count": null, 
            "outputs": [], 
            "metadata": {}
        }
    ], 
    "nbformat": 4, 
    "metadata": {
        "kernelspec": {
            "display_name": "Python 3.6", 
            "name": "python3", 
            "language": "python"
        }, 
        "language_info": {
            "mimetype": "text/x-python", 
            "nbconvert_exporter": "python", 
            "version": "3.6.8", 
            "name": "python", 
            "pygments_lexer": "ipython3", 
            "file_extension": ".py", 
            "codemirror_mode": {
                "version": 3, 
                "name": "ipython"
            }
        }
    }
}